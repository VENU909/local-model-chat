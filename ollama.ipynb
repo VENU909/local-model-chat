{
 "cells": [
  {
   "cell_type": "code",
   "execution_count": 22,
   "metadata": {},
   "outputs": [],
   "source": [
    "\n",
    "from langchain.chat_models import ChatOllama\n",
    "\n",
    "\n",
    "chat_model =  ChatOllama(model=\"mistral:latest\")"
   ]
  },
  {
   "cell_type": "code",
   "execution_count": 23,
   "metadata": {},
   "outputs": [],
   "source": [
    "from langchain.schema import HumanMessage\n",
    "\n",
    "ollama_prompt = [\n",
    "    HumanMessage(content=\"Tell me about the history of AI\")\n",
    "]\n"
   ]
  },
  {
   "cell_type": "code",
   "execution_count": 27,
   "metadata": {},
   "outputs": [
    {
     "name": "stdout",
     "output_type": "stream",
     "text": [
      "THIS IS THE MSESSAGE: ('content', \"\\nThe history of artificial intelligence (AI) can be traced back to ancient civilizations, where machines and automation were used for simple tasks. For example, in ancient Egypt, the invention of complex machinery such as the water wheel helped automate certain processes. In ancient Greece, inventions such as the automaton vase and antikythera mechanism showcased the ability to create machines that could perform specific tasks without human intervention.\\n\\nIn more recent times, the development of AI has been heavily influenced by the rise of computing and mathematics. The concept of AI was first formalized in 1956 at the Dartmouth Conference, where computer scientists gathered to discuss the potential of computers to simulate human intelligence. Since then, there have been many breakthroughs in AI research, including the development of the Turing test, which measures a machine's ability to imitate human conversation, and the creation of neural networks, which are designed to mimic the way the human brain processes information.\\n\\nIn recent years, AI has become increasingly important in many fields, including healthcare, finance, transportation, and education. The growth of data and advances in machine learning techniques have made it possible for AI systems to analyze vast amounts of information and make predictions with a high degree of accuracy. This has led to a wide range of applications, from self-driving cars to personalized medicine.\\n\\nDespite its many achievements, the development of AI is still an ongoing process, and there are many challenges to overcome. For example, researchers must continue to improve the ability of machines to understand and interpret human language, as well as develop more sophisticated algorithms for reasoning and decision making. However, with continued innovation and investment in research, the future of AI looks bright, and its impact on society is likely to be profound.\")\n",
      "\n",
      "\n",
      "\n",
      "in the for loop\n",
      "this is the content: content\n",
      "this is the message_data: \n",
      "The history of artificial intelligence (AI) can be traced back to ancient civilizations, where machines and automation were used for simple tasks. For example, in ancient Egypt, the invention of complex machinery such as the water wheel helped automate certain processes. In ancient Greece, inventions such as the automaton vase and antikythera mechanism showcased the ability to create machines that could perform specific tasks without human intervention.\n",
      "\n",
      "In more recent times, the development of AI has been heavily influenced by the rise of computing and mathematics. The concept of AI was first formalized in 1956 at the Dartmouth Conference, where computer scientists gathered to discuss the potential of computers to simulate human intelligence. Since then, there have been many breakthroughs in AI research, including the development of the Turing test, which measures a machine's ability to imitate human conversation, and the creation of neural networks, which are designed to mimic the way the human brain processes information.\n",
      "\n",
      "In recent years, AI has become increasingly important in many fields, including healthcare, finance, transportation, and education. The growth of data and advances in machine learning techniques have made it possible for AI systems to analyze vast amounts of information and make predictions with a high degree of accuracy. This has led to a wide range of applications, from self-driving cars to personalized medicine.\n",
      "\n",
      "Despite its many achievements, the development of AI is still an ongoing process, and there are many challenges to overcome. For example, researchers must continue to improve the ability of machines to understand and interpret human language, as well as develop more sophisticated algorithms for reasoning and decision making. However, with continued innovation and investment in research, the future of AI looks bright, and its impact on society is likely to be profound.\n"
     ]
    },
    {
     "ename": "NameError",
     "evalue": "name 'm' is not defined",
     "output_type": "error",
     "traceback": [
      "\u001b[0;31m---------------------------------------------------------------------------\u001b[0m",
      "\u001b[0;31mNameError\u001b[0m                                 Traceback (most recent call last)",
      "Cell \u001b[0;32mIn[27], line 15\u001b[0m\n\u001b[1;32m     11\u001b[0m \u001b[39mprint\u001b[39m(\u001b[39mf\u001b[39m\u001b[39m\"\u001b[39m\u001b[39mthis is the content: \u001b[39m\u001b[39m{\u001b[39;00mcontent\u001b[39m}\u001b[39;00m\u001b[39m\"\u001b[39m)\n\u001b[1;32m     12\u001b[0m \u001b[39mprint\u001b[39m(\u001b[39mf\u001b[39m\u001b[39m\"\u001b[39m\u001b[39mthis is the message_data: \u001b[39m\u001b[39m{\u001b[39;00mmessage_data\u001b[39m}\u001b[39;00m\u001b[39m\"\u001b[39m)\n\u001b[1;32m     14\u001b[0m messages \u001b[39m=\u001b[39m [\n\u001b[0;32m---> 15\u001b[0m     {\u001b[39m\"\u001b[39m\u001b[39mrole\u001b[39m\u001b[39m\"\u001b[39m: m[\u001b[39m\"\u001b[39m\u001b[39mrole\u001b[39m\u001b[39m\"\u001b[39m]}\n\u001b[1;32m     16\u001b[0m ]\n\u001b[1;32m     17\u001b[0m full_response \u001b[39m+\u001b[39m\u001b[39m=\u001b[39m content\n",
      "\u001b[0;31mNameError\u001b[0m: name 'm' is not defined"
     ]
    }
   ],
   "source": [
    "full_response = \"\"\n",
    "\n",
    "for message in chat_model(ollama_prompt):\n",
    "\n",
    "    print(f\"THIS IS THE MSESSAGE: {message}\\n\\n\\n\")\n",
    "    message = message\n",
    "\n",
    "    \n",
    "    print(\"in the for loop\")\n",
    "    content, message_data = message  # Unpack the tuple into message_type and message_data\n",
    "    print(f\"this is the content: {content}\")\n",
    "    print(f\"this is the message_data: {message_data}\")\n",
    "\n",
    "    messages = [\n",
    "        {\"role\": m[\"role\"]}\n",
    "    ]\n",
    "    full_response += content\n"
   ]
  },
  {
   "cell_type": "code",
   "execution_count": 25,
   "metadata": {},
   "outputs": [
    {
     "data": {
      "text/plain": [
       "'contentadditional_kwargsexample'"
      ]
     },
     "execution_count": 25,
     "metadata": {},
     "output_type": "execute_result"
    }
   ],
   "source": [
    "full_response"
   ]
  },
  {
   "cell_type": "code",
   "execution_count": 30,
   "metadata": {},
   "outputs": [
    {
     "ename": "TypeError",
     "evalue": "'tuple' object is not callable",
     "output_type": "error",
     "traceback": [
      "\u001b[0;31m---------------------------------------------------------------------------\u001b[0m",
      "\u001b[0;31mTypeError\u001b[0m                                 Traceback (most recent call last)",
      "Cell \u001b[0;32mIn[30], line 1\u001b[0m\n\u001b[0;32m----> 1\u001b[0m message(\u001b[39m\"\u001b[39;49m\u001b[39mcontent\u001b[39;49m\u001b[39m\"\u001b[39;49m)\n",
      "\u001b[0;31mTypeError\u001b[0m: 'tuple' object is not callable"
     ]
    }
   ],
   "source": [
    "message(\"content\")"
   ]
  },
  {
   "cell_type": "code",
   "execution_count": null,
   "metadata": {},
   "outputs": [],
   "source": []
  }
 ],
 "metadata": {
  "kernelspec": {
   "display_name": "Python 3",
   "language": "python",
   "name": "python3"
  },
  "language_info": {
   "codemirror_mode": {
    "name": "ipython",
    "version": 3
   },
   "file_extension": ".py",
   "mimetype": "text/x-python",
   "name": "python",
   "nbconvert_exporter": "python",
   "pygments_lexer": "ipython3",
   "version": "3.10.1"
  },
  "orig_nbformat": 4
 },
 "nbformat": 4,
 "nbformat_minor": 2
}
